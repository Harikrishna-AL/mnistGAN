{
  "cells": [
    {
      "cell_type": "code",
      "execution_count": 17,
      "metadata": {
        "id": "oF1CebKJP3d0"
      },
      "outputs": [],
      "source": [
        "import torch \n",
        "import torch.nn as nn\n",
        "import torchvision.transforms as transforms\n",
        "import torch.optim as optim\n",
        "import torchvision.datasets as datasets\n",
        "import imageio\n",
        "import numpy as np\n",
        "import matplotlib\n",
        "import os\n",
        "import torch.nn.functional as F\n",
        "from torchvision.utils import make_grid, save_image\n",
        "from torch.utils.data import DataLoader\n",
        "from matplotlib import pyplot as plt\n",
        "from tqdm import tqdm\n",
        "from IPython.display import Image\n",
        "from torchvision.utils import save_image\n",
        "matplotlib.style.use('ggplot')"
      ]
    },
    {
      "cell_type": "code",
      "execution_count": 18,
      "metadata": {
        "id": "PhdwCKrOohZ9"
      },
      "outputs": [],
      "source": [
        "sample_dir = 'samples'\n",
        "if not os.path.exists(sample_dir):\n",
        "    os.makedirs(sample_dir)\n",
        "batch_size = 100\n",
        "epochs = 200\n",
        "sample_size = 64\n",
        "nz = 28*28\n",
        "k = 1\n",
        "device = torch.device('cuda' if torch.cuda.is_available() else 'cpu')"
      ]
    },
    {
      "cell_type": "code",
      "execution_count": 19,
      "metadata": {
        "id": "dVbR0FvWpE8E"
      },
      "outputs": [],
      "source": [
        "# from torchvision.transforms.func/tional import to_pil_image\n",
        "class GaussianNoise(object):\n",
        "  def __init__(self,std,mean):\n",
        "    self.std = std\n",
        "    self.mean = mean\n",
        "  def __call__(self,tensor):\n",
        "    return (tensor + torch.randn(tensor.size())*self.std + self.mean)\n",
        "\n",
        "  def __repr__(self):\n",
        "    return self.__class__.__name__ + '(mean={0}, std={1})'.format(self.mean, self.std)\n",
        "\n",
        "transform = transforms.Compose([\n",
        "    transforms.ToTensor(),\n",
        "    transforms.Normalize((0.5,),(0.5,)),\n",
        "    transforms.Resize(64),\n",
        "    GaussianNoise(mean=0.5,std=0.01),\n",
        "    \n",
        "])\n",
        "to_pil_image = transforms.ToPILImage()\n"
      ]
    },
    {
      "cell_type": "code",
      "execution_count": 20,
      "metadata": {
        "id": "nAtrQchXpgkL"
      },
      "outputs": [],
      "source": [
        "train_data = datasets.MNIST(\n",
        "    root='../input/data',\n",
        "    train=True,\n",
        "    download=True,\n",
        "    transform=transform\n",
        ")\n",
        "train_loader = DataLoader(train_data,batch_size=batch_size,shuffle=True)"
      ]
    },
    {
      "cell_type": "code",
      "execution_count": 21,
      "metadata": {
        "colab": {
          "base_uri": "https://localhost:8080/",
          "height": 320
        },
        "id": "Zzu3xVd4huTT",
        "outputId": "af5b2602-2b92-42e0-8ab0-7096414f5c50"
      },
      "outputs": [
        {
          "output_type": "stream",
          "name": "stdout",
          "text": [
            "Feature batch shape: torch.Size([100, 1, 64, 64])\n",
            "Labels batch shape: torch.Size([100])\n"
          ]
        },
        {
          "output_type": "display_data",
          "data": {
            "text/plain": [
              "<Figure size 432x288 with 1 Axes>"
            ],
            "image/png": "[encoded data removed]"
          },
          "metadata": {}
        },
        {
          "output_type": "stream",
          "name": "stdout",
          "text": [
            "Label: 5\n"
          ]
        }
      ],
      "source": [
        "train_features, train_labels = next(iter(train_loader))\n",
        "print(f\"Feature batch shape: {train_features.size()}\")\n",
        "print(f\"Labels batch shape: {train_labels.size()}\")\n",
        "img = train_features[0].squeeze()\n",
        "label = train_labels[0]\n",
        "# print(img)\n",
        "plt.imshow(img, cmap=\"gray\")\n",
        "plt.show()\n",
        "print(f\"Label: {label}\")"
      ]
    },
    {
      "cell_type": "code",
      "source": [
        "BATCH_SIZE = 128\n",
        "IMAGE_CHANNEL = 1\n",
        "Z_DIM = 100\n",
        "G_HIDDEN = 64\n",
        "X_DIM = 64\n",
        "D_HIDDEN = 64\n",
        "EPOCH_NUM = 5"
      ],
      "metadata": {
        "id": "UdFE6-1fCEzZ"
      },
      "execution_count": 22,
      "outputs": []
    },
    {
      "cell_type": "code",
      "source": [
        "class Generator(nn.Module):\n",
        "  def __init__(self):\n",
        "    super(Generator,self).__init__()\n",
        "    self.main = nn.Sequential(\n",
        "        nn.ConvTranspose2d(Z_DIM,G_HIDDEN*8,4,1,0,bias=False),\n",
        "        nn.BatchNorm2d(G_HIDDEN*8),\n",
        "        nn.ReLU(True),\n",
        "\n",
        "        # 1st hidden layer\n",
        "        nn.ConvTranspose2d(G_HIDDEN*8,G_HIDDEN*4,4,2,1,bias=False),\n",
        "        nn.BatchNorm2d(G_HIDDEN*4),\n",
        "        nn.ReLU(True),\n",
        "\n",
        "        nn.ConvTranspose2d(G_HIDDEN*4,G_HIDDEN*2,4,2,1,bias=False),\n",
        "        nn.BatchNorm2d(G_HIDDEN*2),\n",
        "        nn.ReLU(True),\n",
        "\n",
        "        nn.ConvTranspose2d(G_HIDDEN*2,G_HIDDEN,4,2,1,bias=False),\n",
        "        nn.BatchNorm2d(G_HIDDEN),\n",
        "        nn.ReLU(True),\n",
        "\n",
        "        nn.ConvTranspose2d(G_HIDDEN,IMAGE_CHANNEL,4,2,1,bias=False),\n",
        "        nn.Tanh()\n",
        "\n",
        "\n",
        "    )\n",
        "\n",
        "  def forward(self,input):\n",
        "        return self.main(input)\n",
        "    "
      ],
      "metadata": {
        "id": "VaK_PAjwAZO8"
      },
      "execution_count": 23,
      "outputs": []
    },
    {
      "cell_type": "code",
      "source": [
        "# from numpy.ma.core import squeeze\n",
        "class Discriminator(nn.Module):\n",
        "  def __init__(self):\n",
        "      super(Discriminator,self).__init__()\n",
        "      self.main = nn.Sequential(\n",
        "          nn.Conv2d(IMAGE_CHANNEL,D_HIDDEN,4,2,1,bias=False),\n",
        "          nn.LeakyReLU(0.2,inplace=True),\n",
        "          #2nd layer\n",
        "          nn.Conv2d(D_HIDDEN,D_HIDDEN*2,4,2,1,bias=False),\n",
        "          nn.BatchNorm2d(D_HIDDEN*2),\n",
        "          nn.LeakyReLU(0.2,inplace=True),\n",
        "\n",
        "          nn.Conv2d(D_HIDDEN*2,D_HIDDEN*4,4,2,1,bias=False),\n",
        "          nn.BatchNorm2d(D_HIDDEN*4),\n",
        "          nn.LeakyReLU(0.2,inplace=True),\n",
        "\n",
        "\n",
        "          nn.Conv2d(D_HIDDEN*4,D_HIDDEN*8,4,2,1,bias=False),\n",
        "          nn.BatchNorm2d(D_HIDDEN*8),\n",
        "          nn.LeakyReLU(0.2,inplace=True),\n",
        "\n",
        "          nn.Conv2d(D_HIDDEN*8,1,4,1,0,bias=False),\n",
        "          nn.Sigmoid()      \n",
        "      )\n",
        "  def forward(self,input):\n",
        "    return self.main(input).view(-1,1).squeeze(1)"
      ],
      "metadata": {
        "id": "1AiaKq-FFBZ0"
      },
      "execution_count": 24,
      "outputs": []
    },
    {
      "cell_type": "code",
      "source": [
        "\n",
        "def weights_init(m):\n",
        "    classname = m.__class__.__name__\n",
        "    if classname.find('Conv') != -1:\n",
        "        m.weight.data.normal_(0.0, 0.02)\n",
        "    elif classname.find('BatchNorm') != -1:\n",
        "        m.weight.data.normal_(1.0, 0.02)\n",
        "        m.bias.data.fill_(0)"
      ],
      "metadata": {
        "id": "uTTTeMx7UwRf"
      },
      "execution_count": 25,
      "outputs": []
    },
    {
      "cell_type": "code",
      "execution_count": 26,
      "metadata": {
        "colab": {
          "base_uri": "https://localhost:8080/"
        },
        "id": "giiLXGxnt44E",
        "outputId": "937c5d87-65f6-43f7-b3a1-d28c55e25972"
      },
      "outputs": [
        {
          "output_type": "stream",
          "name": "stdout",
          "text": [
            "Generator(\n",
            "  (main): Sequential(\n",
            "    (0): ConvTranspose2d(100, 512, kernel_size=(4, 4), stride=(1, 1), bias=False)\n",
            "    (1): BatchNorm2d(512, eps=1e-05, momentum=0.1, affine=True, track_running_stats=True)\n",
            "    (2): ReLU(inplace=True)\n",
            "    (3): ConvTranspose2d(512, 256, kernel_size=(4, 4), stride=(2, 2), padding=(1, 1), bias=False)\n",
            "    (4): BatchNorm2d(256, eps=1e-05, momentum=0.1, affine=True, track_running_stats=True)\n",
            "    (5): ReLU(inplace=True)\n",
            "    (6): ConvTranspose2d(256, 128, kernel_size=(4, 4), stride=(2, 2), padding=(1, 1), bias=False)\n",
            "    (7): BatchNorm2d(128, eps=1e-05, momentum=0.1, affine=True, track_running_stats=True)\n",
            "    (8): ReLU(inplace=True)\n",
            "    (9): ConvTranspose2d(128, 64, kernel_size=(4, 4), stride=(2, 2), padding=(1, 1), bias=False)\n",
            "    (10): BatchNorm2d(64, eps=1e-05, momentum=0.1, affine=True, track_running_stats=True)\n",
            "    (11): ReLU(inplace=True)\n",
            "    (12): ConvTranspose2d(64, 1, kernel_size=(4, 4), stride=(2, 2), padding=(1, 1), bias=False)\n",
            "    (13): Tanh()\n",
            "  )\n",
            ")\n"
          ]
        }
      ],
      "source": [
        "generator = Generator().to(device)\n",
        "# generator.apply(weights_init)\n",
        "discriminator = Discriminator().to(device)\n",
        "# discriminator.apply(weights_init)\n",
        "print(generator)"
      ]
    },
    {
      "cell_type": "code",
      "execution_count": 27,
      "metadata": {
        "id": "b3EkIkEWuK2Z"
      },
      "outputs": [],
      "source": [
        "optim_g = optim.Adam(generator.parameters(), lr=0.0002,betas=(0.5, 0.999))\n",
        "optim_d = optim.Adam(discriminator.parameters(), lr=0.0002,betas=(0.5, 0.999))\n",
        "criterion = nn.BCELoss()\n",
        "losses_g = [] # to store generator loss after each epoch\n",
        "losses_d = [] # to store discriminator loss after each epoch\n",
        "images = [] #"
      ]
    },
    {
      "cell_type": "code",
      "execution_count": 28,
      "metadata": {
        "id": "gYfQcHckupOd"
      },
      "outputs": [],
      "source": [
        "def label_real(size):\n",
        "    data = torch.ones(size)\n",
        "    return data.to(device)\n",
        "# to create fake labels (0s)\n",
        "def label_fake(size):\n",
        "    data = torch.zeros(size)\n",
        "    return data.to(device)\n",
        "\n",
        "def create_noise(sample_size,nz):\n",
        "  return torch.randn(batch_size,nz,1,1).to(device)\n",
        "\n",
        "def save_generator_image(image,path):\n",
        "  save_image(image,path)"
      ]
    },
    {
      "cell_type": "code",
      "execution_count": 29,
      "metadata": {
        "id": "IsMQbLaU-ro5"
      },
      "outputs": [],
      "source": [
        "def train_discriminator(optimizer, data_real,data_fake):\n",
        "  b_size = data_real.size(0)\n",
        "  real_label = label_real(b_size)\n",
        "  fake_label = label_fake(b_size)\n",
        "  optimizer.zero_grad()\n",
        "  output_real = discriminator(data_real)\n",
        "  output_fake = discriminator(data_fake)\n",
        "  loss_real = F.binary_cross_entropy(real_label,output_real)\n",
        "  loss_fake = F.binary_cross_entropy(fake_label,output_fake)\n",
        "  loss_real.backward()\n",
        "  loss_fake.backward()\n",
        "  optimizer.step()\n",
        "  return loss_real + loss_fake\n",
        "\n",
        "def train_generator(optimizer,data_fake):\n",
        "  b_size = data_fake.size(0)\n",
        "  real_label = label_real(b_size)\n",
        "  optimizer.zero_grad()\n",
        "  output = generator(data_fake)\n",
        "  loss = criterion(real_label,output)\n",
        "  loss.backward()\n",
        "  optimizer.step()\n",
        "  return loss\n",
        "  "
      ]
    },
    {
      "cell_type": "code",
      "execution_count": 30,
      "metadata": {
        "id": "C3SXFpyM_n89"
      },
      "outputs": [],
      "source": [
        "from IPython.display import clear_output\n",
        "def plot_all_losses(d_loss_run, g_loss_run):\n",
        "    plt.plot(d_loss_run, label = \"D-loss\")\n",
        "\n",
        "    plt.plot(g_loss_run, label = \"G-loss\")\n",
        "    plt.legend()\n",
        "    plt.show()\n",
        "\n",
        "def show_gen_sample(z,G):\n",
        "    print(G(z)[0].shape)\n",
        "    samples = G(z)[0]\n",
        "    samples = samples.view([64,64])\n",
        "    sample = samples.detach().cpu().numpy()\n",
        "    plt.imshow(sample, cmap = \"gray\")\n",
        "    plt.show()\n",
        "\n",
        "def wasserstein_loss(y_true, y_pred):\n",
        "   return torch.mean(y_true * y_pred)"
      ]
    },
    {
      "cell_type": "code",
      "source": [
        "sample_vectors = torch.randn(batch_size,Z_DIM,1,1).to(device)\n",
        "def save_fake_images(index):\n",
        "    fake_images = generator(sample_vectors)\n",
        "    fake_images = fake_images.reshape(fake_images.size(0), 1, 64, 64)\n",
        "    fake_fname = 'fake_images-{0:0=4d}.png'.format(index)\n",
        "    print('Saving', fake_fname)\n",
        "    save_image(fake_images, os.path.join(sample_dir, fake_fname), nrow=10)\n",
        "    Image(os.path.join(sample_dir, 'fake_images-{0:0=4d}.png'.format(index)))"
      ],
      "metadata": {
        "id": "KCp6GUn6ZS0P"
      },
      "execution_count": 31,
      "outputs": []
    },
    {
      "cell_type": "code",
      "execution_count": 32,
      "metadata": {
        "colab": {
          "base_uri": "https://localhost:8080/",
          "height": 680
        },
        "id": "vR2WFSUo6Iwc",
        "outputId": "5dc78d15-61c9-4e14-ea2d-b7cc540747f1"
      },
      "outputs": [
        {
          "output_type": "display_data",
          "data": {
            "text/plain": [
              "<Figure size 432x288 with 1 Axes>"
            ],
            "image/png": "[encoded data removed]"
          },
          "metadata": {}
        },
        {
          "output_type": "stream",
          "name": "stderr",
          "text": [
            "\r  2%|▏         | 9/600 [00:03<04:22,  2.25it/s]"
          ]
        },
        {
          "output_type": "stream",
          "name": "stdout",
          "text": [
            "Saving fake_images-1208.png\n",
            "3\n"
          ]
        },
        {
          "output_type": "stream",
          "name": "stderr",
          "text": [
            "\r  2%|▏         | 9/600 [00:04<04:37,  2.13it/s]\n"
          ]
        },
        {
          "output_type": "error",
          "ename": "KeyboardInterrupt",
          "evalue": "ignored",
          "traceback": [
            "\u001b[0;31m---------------------------------------------------------------------------\u001b[0m",
            "\u001b[0;31mKeyboardInterrupt\u001b[0m                         Traceback (most recent call last)",
            "\u001b[0;32m<ipython-input-32-3e4bd36c8927>\u001b[0m in \u001b[0;36m<module>\u001b[0;34m\u001b[0m\n\u001b[1;32m     53\u001b[0m \u001b[0;34m\u001b[0m\u001b[0m\n\u001b[1;32m     54\u001b[0m \u001b[0;34m\u001b[0m\u001b[0m\n\u001b[0;32m---> 55\u001b[0;31m     \u001b[0mclear_output\u001b[0m\u001b[0;34m(\u001b[0m\u001b[0mwait\u001b[0m \u001b[0;34m=\u001b[0m \u001b[0;32mTrue\u001b[0m\u001b[0;34m)\u001b[0m\u001b[0;34m\u001b[0m\u001b[0;34m\u001b[0m\u001b[0m\n\u001b[0m\u001b[1;32m     56\u001b[0m     \u001b[0mplot_all_losses\u001b[0m\u001b[0;34m(\u001b[0m\u001b[0md_loss_run\u001b[0m\u001b[0;34m,\u001b[0m \u001b[0mg_loss_run\u001b[0m\u001b[0;34m)\u001b[0m\u001b[0;34m\u001b[0m\u001b[0;34m\u001b[0m\u001b[0m\n\u001b[1;32m     57\u001b[0m     \u001b[0;31m# show_gen_sample(z,generator)\u001b[0m\u001b[0;34m\u001b[0m\u001b[0;34m\u001b[0m\u001b[0;34m\u001b[0m\u001b[0m\n",
            "\u001b[0;32m/usr/local/lib/python3.8/dist-packages/IPython/core/display.py\u001b[0m in \u001b[0;36mclear_output\u001b[0;34m(wait)\u001b[0m\n\u001b[1;32m   1432\u001b[0m     \u001b[0;32mfrom\u001b[0m \u001b[0mIPython\u001b[0m\u001b[0;34m.\u001b[0m\u001b[0mcore\u001b[0m\u001b[0;34m.\u001b[0m\u001b[0minteractiveshell\u001b[0m \u001b[0;32mimport\u001b[0m \u001b[0mInteractiveShell\u001b[0m\u001b[0;34m\u001b[0m\u001b[0;34m\u001b[0m\u001b[0m\n\u001b[1;32m   1433\u001b[0m     \u001b[0;32mif\u001b[0m \u001b[0mInteractiveShell\u001b[0m\u001b[0;34m.\u001b[0m\u001b[0minitialized\u001b[0m\u001b[0;34m(\u001b[0m\u001b[0;34m)\u001b[0m\u001b[0;34m:\u001b[0m\u001b[0;34m\u001b[0m\u001b[0;34m\u001b[0m\u001b[0m\n\u001b[0;32m-> 1434\u001b[0;31m         \u001b[0mInteractiveShell\u001b[0m\u001b[0;34m.\u001b[0m\u001b[0minstance\u001b[0m\u001b[0;34m(\u001b[0m\u001b[0;34m)\u001b[0m\u001b[0;34m.\u001b[0m\u001b[0mdisplay_pub\u001b[0m\u001b[0;34m.\u001b[0m\u001b[0mclear_output\u001b[0m\u001b[0;34m(\u001b[0m\u001b[0mwait\u001b[0m\u001b[0;34m)\u001b[0m\u001b[0;34m\u001b[0m\u001b[0;34m\u001b[0m\u001b[0m\n\u001b[0m\u001b[1;32m   1435\u001b[0m     \u001b[0;32melse\u001b[0m\u001b[0;34m:\u001b[0m\u001b[0;34m\u001b[0m\u001b[0;34m\u001b[0m\u001b[0m\n\u001b[1;32m   1436\u001b[0m         \u001b[0mprint\u001b[0m\u001b[0;34m(\u001b[0m\u001b[0;34m'\\033[2K\\r'\u001b[0m\u001b[0;34m,\u001b[0m \u001b[0mend\u001b[0m\u001b[0;34m=\u001b[0m\u001b[0;34m''\u001b[0m\u001b[0;34m)\u001b[0m\u001b[0;34m\u001b[0m\u001b[0;34m\u001b[0m\u001b[0m\n",
            "\u001b[0;32m/usr/local/lib/python3.8/dist-packages/ipykernel/zmqshell.py\u001b[0m in \u001b[0;36mclear_output\u001b[0;34m(self, wait)\u001b[0m\n\u001b[1;32m    155\u001b[0m         \"\"\"\n\u001b[1;32m    156\u001b[0m         \u001b[0mcontent\u001b[0m \u001b[0;34m=\u001b[0m \u001b[0mdict\u001b[0m\u001b[0;34m(\u001b[0m\u001b[0mwait\u001b[0m\u001b[0;34m=\u001b[0m\u001b[0mwait\u001b[0m\u001b[0;34m)\u001b[0m\u001b[0;34m\u001b[0m\u001b[0;34m\u001b[0m\u001b[0m\n\u001b[0;32m--> 157\u001b[0;31m         \u001b[0mself\u001b[0m\u001b[0;34m.\u001b[0m\u001b[0m_flush_streams\u001b[0m\u001b[0;34m(\u001b[0m\u001b[0;34m)\u001b[0m\u001b[0;34m\u001b[0m\u001b[0;34m\u001b[0m\u001b[0m\n\u001b[0m\u001b[1;32m    158\u001b[0m         self.session.send(\n\u001b[1;32m    159\u001b[0m             \u001b[0mself\u001b[0m\u001b[0;34m.\u001b[0m\u001b[0mpub_socket\u001b[0m\u001b[0;34m,\u001b[0m \u001b[0;34mu'clear_output'\u001b[0m\u001b[0;34m,\u001b[0m \u001b[0mcontent\u001b[0m\u001b[0;34m,\u001b[0m\u001b[0;34m\u001b[0m\u001b[0;34m\u001b[0m\u001b[0m\n",
            "\u001b[0;32m/usr/local/lib/python3.8/dist-packages/ipykernel/zmqshell.py\u001b[0m in \u001b[0;36m_flush_streams\u001b[0;34m(self)\u001b[0m\n\u001b[1;32m     77\u001b[0m     \u001b[0;32mdef\u001b[0m \u001b[0m_flush_streams\u001b[0m\u001b[0;34m(\u001b[0m\u001b[0mself\u001b[0m\u001b[0;34m)\u001b[0m\u001b[0;34m:\u001b[0m\u001b[0;34m\u001b[0m\u001b[0;34m\u001b[0m\u001b[0m\n\u001b[1;32m     78\u001b[0m         \u001b[0;34m\"\"\"flush IO Streams prior to display\"\"\"\u001b[0m\u001b[0;34m\u001b[0m\u001b[0;34m\u001b[0m\u001b[0m\n\u001b[0;32m---> 79\u001b[0;31m         \u001b[0msys\u001b[0m\u001b[0;34m.\u001b[0m\u001b[0mstdout\u001b[0m\u001b[0;34m.\u001b[0m\u001b[0mflush\u001b[0m\u001b[0;34m(\u001b[0m\u001b[0;34m)\u001b[0m\u001b[0;34m\u001b[0m\u001b[0;34m\u001b[0m\u001b[0m\n\u001b[0m\u001b[1;32m     80\u001b[0m         \u001b[0msys\u001b[0m\u001b[0;34m.\u001b[0m\u001b[0mstderr\u001b[0m\u001b[0;34m.\u001b[0m\u001b[0mflush\u001b[0m\u001b[0;34m(\u001b[0m\u001b[0;34m)\u001b[0m\u001b[0;34m\u001b[0m\u001b[0;34m\u001b[0m\u001b[0m\n\u001b[1;32m     81\u001b[0m \u001b[0;34m\u001b[0m\u001b[0m\n",
            "\u001b[0;32m/usr/local/lib/python3.8/dist-packages/ipykernel/iostream.py\u001b[0m in \u001b[0;36mflush\u001b[0;34m(self)\u001b[0m\n\u001b[1;32m    350\u001b[0m                 \u001b[0mself\u001b[0m\u001b[0;34m.\u001b[0m\u001b[0mpub_thread\u001b[0m\u001b[0;34m.\u001b[0m\u001b[0mschedule\u001b[0m\u001b[0;34m(\u001b[0m\u001b[0mevt\u001b[0m\u001b[0;34m.\u001b[0m\u001b[0mset\u001b[0m\u001b[0;34m)\u001b[0m\u001b[0;34m\u001b[0m\u001b[0;34m\u001b[0m\u001b[0m\n\u001b[1;32m    351\u001b[0m                 \u001b[0;31m# and give a timeout to avoid\u001b[0m\u001b[0;34m\u001b[0m\u001b[0;34m\u001b[0m\u001b[0;34m\u001b[0m\u001b[0m\n\u001b[0;32m--> 352\u001b[0;31m                 \u001b[0;32mif\u001b[0m \u001b[0;32mnot\u001b[0m \u001b[0mevt\u001b[0m\u001b[0;34m.\u001b[0m\u001b[0mwait\u001b[0m\u001b[0;34m(\u001b[0m\u001b[0mself\u001b[0m\u001b[0;34m.\u001b[0m\u001b[0mflush_timeout\u001b[0m\u001b[0;34m)\u001b[0m\u001b[0;34m:\u001b[0m\u001b[0;34m\u001b[0m\u001b[0;34m\u001b[0m\u001b[0m\n\u001b[0m\u001b[1;32m    353\u001b[0m                     \u001b[0;31m# write directly to __stderr__ instead of warning because\u001b[0m\u001b[0;34m\u001b[0m\u001b[0;34m\u001b[0m\u001b[0;34m\u001b[0m\u001b[0m\n\u001b[1;32m    354\u001b[0m                     \u001b[0;31m# if this is happening sys.stderr may be the problem.\u001b[0m\u001b[0;34m\u001b[0m\u001b[0;34m\u001b[0m\u001b[0;34m\u001b[0m\u001b[0m\n",
            "\u001b[0;32m/usr/lib/python3.8/threading.py\u001b[0m in \u001b[0;36mwait\u001b[0;34m(self, timeout)\u001b[0m\n\u001b[1;32m    556\u001b[0m             \u001b[0msignaled\u001b[0m \u001b[0;34m=\u001b[0m \u001b[0mself\u001b[0m\u001b[0;34m.\u001b[0m\u001b[0m_flag\u001b[0m\u001b[0;34m\u001b[0m\u001b[0;34m\u001b[0m\u001b[0m\n\u001b[1;32m    557\u001b[0m             \u001b[0;32mif\u001b[0m \u001b[0;32mnot\u001b[0m \u001b[0msignaled\u001b[0m\u001b[0;34m:\u001b[0m\u001b[0;34m\u001b[0m\u001b[0;34m\u001b[0m\u001b[0m\n\u001b[0;32m--> 558\u001b[0;31m                 \u001b[0msignaled\u001b[0m \u001b[0;34m=\u001b[0m \u001b[0mself\u001b[0m\u001b[0;34m.\u001b[0m\u001b[0m_cond\u001b[0m\u001b[0;34m.\u001b[0m\u001b[0mwait\u001b[0m\u001b[0;34m(\u001b[0m\u001b[0mtimeout\u001b[0m\u001b[0;34m)\u001b[0m\u001b[0;34m\u001b[0m\u001b[0;34m\u001b[0m\u001b[0m\n\u001b[0m\u001b[1;32m    559\u001b[0m             \u001b[0;32mreturn\u001b[0m \u001b[0msignaled\u001b[0m\u001b[0;34m\u001b[0m\u001b[0;34m\u001b[0m\u001b[0m\n\u001b[1;32m    560\u001b[0m \u001b[0;34m\u001b[0m\u001b[0m\n",
            "\u001b[0;32m/usr/lib/python3.8/threading.py\u001b[0m in \u001b[0;36mwait\u001b[0;34m(self, timeout)\u001b[0m\n\u001b[1;32m    304\u001b[0m             \u001b[0;32melse\u001b[0m\u001b[0;34m:\u001b[0m\u001b[0;34m\u001b[0m\u001b[0;34m\u001b[0m\u001b[0m\n\u001b[1;32m    305\u001b[0m                 \u001b[0;32mif\u001b[0m \u001b[0mtimeout\u001b[0m \u001b[0;34m>\u001b[0m \u001b[0;36m0\u001b[0m\u001b[0;34m:\u001b[0m\u001b[0;34m\u001b[0m\u001b[0;34m\u001b[0m\u001b[0m\n\u001b[0;32m--> 306\u001b[0;31m                     \u001b[0mgotit\u001b[0m \u001b[0;34m=\u001b[0m \u001b[0mwaiter\u001b[0m\u001b[0;34m.\u001b[0m\u001b[0macquire\u001b[0m\u001b[0;34m(\u001b[0m\u001b[0;32mTrue\u001b[0m\u001b[0;34m,\u001b[0m \u001b[0mtimeout\u001b[0m\u001b[0;34m)\u001b[0m\u001b[0;34m\u001b[0m\u001b[0;34m\u001b[0m\u001b[0m\n\u001b[0m\u001b[1;32m    307\u001b[0m                 \u001b[0;32melse\u001b[0m\u001b[0;34m:\u001b[0m\u001b[0;34m\u001b[0m\u001b[0;34m\u001b[0m\u001b[0m\n\u001b[1;32m    308\u001b[0m                     \u001b[0mgotit\u001b[0m \u001b[0;34m=\u001b[0m \u001b[0mwaiter\u001b[0m\u001b[0;34m.\u001b[0m\u001b[0macquire\u001b[0m\u001b[0;34m(\u001b[0m\u001b[0;32mFalse\u001b[0m\u001b[0;34m)\u001b[0m\u001b[0;34m\u001b[0m\u001b[0;34m\u001b[0m\u001b[0m\n",
            "\u001b[0;31mKeyboardInterrupt\u001b[0m: "
          ]
        }
      ],
      "source": [
        "g_loss_run=[]\n",
        "d_loss_run = []\n",
        "\n",
        "i = 0\n",
        "for epoch in range(5):\n",
        "  for data in tqdm(train_loader):\n",
        "    print(epoch + 1)\n",
        "    x, _ = data\n",
        "    # print(x.data[0])\n",
        "    # plt.show(x.data[0])\n",
        "    siz = x.size(0)\n",
        "    x = x.to(device)\n",
        "    # print(siz)\n",
        "    # x = x.view(x.size(0),-1)\n",
        "    discriminator.zero_grad()\n",
        "    one_labels = label_real(siz)\n",
        "    zeroes_labels = label_fake(siz)\n",
        "    z = create_noise(siz,Z_DIM)\n",
        "    \n",
        "    # print(d_fake)\n",
        "    d_real = discriminator(x).view(-1)\n",
        "    # print(d_fake)\n",
        "    # w_d_fake_loss = wasserstein_loss(zeroes_labels,d_fake)\n",
        "    # w_d_real_loss = wasserstein_loss(one_labels,d_real)\n",
        "    \n",
        "    Dreal_loss = F.binary_cross_entropy(d_real,one_labels)\n",
        "    Dreal_loss.backward() \n",
        "    \n",
        "    \n",
        "    # d_loss.backward()\n",
        "    \n",
        "    g_sample = generator(z)\n",
        "    # print(g_sample)\n",
        "    d_fake = discriminator(g_sample).view(-1)\n",
        "    Dfake_loss = F.binary_cross_entropy(d_fake,zeroes_labels) \n",
        "    Dfake_loss.backward()\n",
        "    d_loss = Dfake_loss + Dreal_loss\n",
        "    optim_d.step()\n",
        "    \n",
        "    generator.zero_grad()\n",
        "    z = create_noise(siz,Z_DIM)\n",
        "    g_sample = generator(z)\n",
        "    d_fake = discriminator(g_sample).view(-1)\n",
        "    # w_d_fake = wasserstein_loss(one_labels,d_fake)\n",
        "    D_loss = F.binary_cross_entropy(d_fake,one_labels)\n",
        "    \n",
        "    D_loss.backward()\n",
        "    optim_g.step()\n",
        "    # g_loss = D_loss\n",
        "\n",
        "    g_loss_run.append(D_loss.detach().cpu().numpy())\n",
        "    d_loss_run.append(d_loss.detach().cpu().numpy())\n",
        "  \n",
        "\n",
        "    clear_output(wait = True)\n",
        "    plot_all_losses(d_loss_run, g_loss_run)\n",
        "    # show_gen_sample(z,generator)\n",
        "    save_fake_images(i)\n",
        "    i += 1\n",
        "\n",
        "\n"
      ]
    },
    {
      "cell_type": "code",
      "source": [
        "from IPython.display import Image\n",
        "from torchvision.utils import save_image\n",
        "for images,_ in tqdm(train_loader):\n",
        "  images = images.reshape(images.size(0),1,64,64)\n",
        "  save_image(images, os.path.join(sample_dir, 'real_images.png'), nrow=10)\n",
        "Image(os.path.join(sample_dir,'real_images.png'))"
      ],
      "metadata": {
        "id": "9Qr98yzwRfga"
      },
      "execution_count": null,
      "outputs": []
    },
    {
      "cell_type": "code",
      "source": [
        "\n",
        "# Before training\n",
        "save_fake_images(0)\n",
        "Image(os.path.join(sample_dir, 'fake_images-0000.png'))"
      ],
      "metadata": {
        "id": "KmllxB21WlSF"
      },
      "execution_count": null,
      "outputs": []
    },
    {
      "cell_type": "code",
      "source": [
        "import glob\n",
        "from PIL import Image\n",
        "def make_gif(frame_folder):\n",
        "    frames = [Image.open(image) for image in glob.glob(f\"{frame_folder}/*.png\")]\n",
        "    frame_one = frames[0]\n",
        "    frame_one.save(\"GAN_mnist.gif\", format=\"GIF\", append_images=frames,\n",
        "               save_all=True, duration=100, loop=0)\n",
        "make_gif(\"samples\")"
      ],
      "metadata": {
        "id": "r62V_3qmIlWp"
      },
      "execution_count": 35,
      "outputs": []
    }
  ],
  "metadata": {
    "colab": {
      "provenance": []
    },
    "kernelspec": {
      "display_name": "Python 3",
      "name": "python3"
    },
    "language_info": {
      "name": "python"
    },
    "accelerator": "GPU",
    "gpuClass": "standard"
  },
  "nbformat": 4,
  "nbformat_minor": 0
}